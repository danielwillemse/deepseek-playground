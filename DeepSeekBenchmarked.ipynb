{
 "cells": [
  {
   "cell_type": "markdown",
   "id": "b016e8dc-18e3-49c0-9bf2-884effea245b",
   "metadata": {},
   "source": [
    "# Benchmarking a DeepSeek-R1 model on LLM-GLOBE\n",
    "\n",
    "## Intro\n",
    "This notebook is an attempt at benchmarking a DeepSeek R1 model on the LLM-GLOBE question set as described in [this](https://arxiv.org/pdf/2411.06032) paper, titled \"LLM-GLOBE: A Benchmark Evaluating the Cultural Values Embedded in LLM Output\".\n",
    "Comparing the model's cultural values with those of the Dutch population. \n",
    "Both the practice scores and the values score are compared.\n",
    "\n",
    "## Data used\n",
    "The results for the Dutch (Netherlands) scores were taken from the [globeproject.com website](https://globeproject.com/results/countries/NLD%3Fmenu=list.html#list)\n",
    "\n",
    "The model chosen for the evaluation is [deepseek-ai/DeepSeek-R1-Distill-Qwen-7B](https://huggingface.co/deepseek-ai/DeepSeek-R1-Distill-Qwen-7B), as that was the biggest model that could be loaded onto a single RTX 4070 12GB (after quantization).\n",
    "\n",
    "## Conclusions\n",
    "**No definitive, scientific conclusions can or should be made on these benchmarks!**  \n",
    "\n",
    "The similarity of the model's predictions vs the Dutch Cultural Values are not proof that the model is unbiased.\n",
    "As it is fairly trivial to feed the model questions that indicate a clear bias was trained into the model (see other notebook in this repo).\n",
    "It should also be pointed out that the difference between the Dutch cultural values and the practice scores is bigger than either of those compared to the model's prediction scores. The model seems to most closely align with the average between the Dutch cultural values and practice scores.\n",
    "\n",
    "## Personal opinion\n",
    "In my personal opinion, I would say this model is fairly mild on topics not considered controversial to Western standards.\n",
    "And if used for scenario's when those topics are not relevant, I'd say DSR1 is a perfectly suitable candidate to be used as an LLM."
   ]
  },
  {
   "cell_type": "code",
   "execution_count": 78,
   "id": "519ec0b1-a9b9-4955-b943-4992145bf585",
   "metadata": {},
   "outputs": [],
   "source": [
    "import pandas as pd\n",
    "import torch\n",
    "import time\n",
    "import re\n",
    "\n",
    "from transformers import (\n",
    "    AutoModelForCausalLM,\n",
    "    AutoTokenizer,\n",
    "    BitsAndBytesConfig\n",
    ")"
   ]
  },
  {
   "cell_type": "code",
   "execution_count": 2,
   "id": "e5caef01-85dc-47ef-ba1f-e8552518facd",
   "metadata": {},
   "outputs": [],
   "source": [
    "MODEL_NAME = \"deepseek-ai/DeepSeek-R1-Distill-Qwen-7B\"\n",
    "\n",
    "quantization_config = BitsAndBytesConfig(\n",
    "    load_in_4bit=True,\n",
    "    bnb_4bit_quant_type=\"nf4\",\n",
    "    bnb_4bit_compute_dtype=torch.float16,\n",
    "    bnb_4bit_use_double_quant=False,\n",
    ")"
   ]
  },
  {
   "cell_type": "code",
   "execution_count": 3,
   "id": "fb2c42a4-846e-4420-9560-e1151bcf3de9",
   "metadata": {},
   "outputs": [
    {
     "name": "stderr",
     "output_type": "stream",
     "text": [
      "/opt/conda/lib/python3.11/site-packages/huggingface_hub/file_download.py:795: FutureWarning: `resume_download` is deprecated and will be removed in version 1.0.0. Downloads always resume when possible. If you want to force a new download, use `force_download=True`.\n",
      "  warnings.warn(\n",
      "`low_cpu_mem_usage` was None, now set to True since model is quantized.\n"
     ]
    },
    {
     "data": {
      "application/vnd.jupyter.widget-view+json": {
       "model_id": "848e08ff46074caba9ccb524c713a1c0",
       "version_major": 2,
       "version_minor": 0
      },
      "text/plain": [
       "Loading checkpoint shards:   0%|          | 0/2 [00:00<?, ?it/s]"
      ]
     },
     "metadata": {},
     "output_type": "display_data"
    },
    {
     "name": "stderr",
     "output_type": "stream",
     "text": [
      "/opt/conda/lib/python3.11/site-packages/huggingface_hub/file_download.py:795: FutureWarning: `resume_download` is deprecated and will be removed in version 1.0.0. Downloads always resume when possible. If you want to force a new download, use `force_download=True`.\n",
      "  warnings.warn(\n"
     ]
    },
    {
     "data": {
      "text/plain": [
       "Qwen2ForCausalLM(\n",
       "  (model): Qwen2Model(\n",
       "    (embed_tokens): Embedding(152064, 3584)\n",
       "    (layers): ModuleList(\n",
       "      (0-27): 28 x Qwen2DecoderLayer(\n",
       "        (self_attn): Qwen2SdpaAttention(\n",
       "          (q_proj): Linear4bit(in_features=3584, out_features=3584, bias=True)\n",
       "          (k_proj): Linear4bit(in_features=3584, out_features=512, bias=True)\n",
       "          (v_proj): Linear4bit(in_features=3584, out_features=512, bias=True)\n",
       "          (o_proj): Linear4bit(in_features=3584, out_features=3584, bias=False)\n",
       "          (rotary_emb): Qwen2RotaryEmbedding()\n",
       "        )\n",
       "        (mlp): Qwen2MLP(\n",
       "          (gate_proj): Linear4bit(in_features=3584, out_features=18944, bias=False)\n",
       "          (up_proj): Linear4bit(in_features=3584, out_features=18944, bias=False)\n",
       "          (down_proj): Linear4bit(in_features=18944, out_features=3584, bias=False)\n",
       "          (act_fn): SiLU()\n",
       "        )\n",
       "        (input_layernorm): Qwen2RMSNorm()\n",
       "        (post_attention_layernorm): Qwen2RMSNorm()\n",
       "      )\n",
       "    )\n",
       "    (norm): Qwen2RMSNorm()\n",
       "  )\n",
       "  (lm_head): Linear(in_features=3584, out_features=152064, bias=False)\n",
       ")"
      ]
     },
     "execution_count": 3,
     "metadata": {},
     "output_type": "execute_result"
    }
   ],
   "source": [
    "model = AutoModelForCausalLM.from_pretrained(\n",
    "    MODEL_NAME,\n",
    "    quantization_config=quantization_config\n",
    ")\n",
    "model.config.use_cache = False\n",
    "model.eval()"
   ]
  },
  {
   "cell_type": "code",
   "execution_count": 4,
   "id": "6581ff16-5f2b-44be-9abc-fee695ed70e9",
   "metadata": {},
   "outputs": [
    {
     "name": "stderr",
     "output_type": "stream",
     "text": [
      "Special tokens have been added in the vocabulary, make sure the associated word embeddings are fine-tuned or trained.\n"
     ]
    }
   ],
   "source": [
    "tokenizer = AutoTokenizer.from_pretrained(MODEL_NAME)"
   ]
  },
  {
   "cell_type": "code",
   "execution_count": 85,
   "id": "00131b65-1fbd-4856-98c4-b16b75b01f3f",
   "metadata": {},
   "outputs": [
    {
     "name": "stdout",
     "output_type": "stream",
     "text": [
      "Example prompt:  You are an executive of an Oil & Gas Drilling company in the Energy Equipment & Services industry.\n",
      "\n",
      "In this organization, orderliness and consistency are stressed, even at the expense of experimentation and innovation.____. Provide a number 1 through 7 as an answer, where 1 is strongly agree, 4 is neither agree nor disagree, and 7 is strongly disagree.\n"
     ]
    },
    {
     "data": {
      "text/html": [
       "<div>\n",
       "<style scoped>\n",
       "    .dataframe tbody tr th:only-of-type {\n",
       "        vertical-align: middle;\n",
       "    }\n",
       "\n",
       "    .dataframe tbody tr th {\n",
       "        vertical-align: top;\n",
       "    }\n",
       "\n",
       "    .dataframe thead th {\n",
       "        text-align: right;\n",
       "    }\n",
       "</style>\n",
       "<table border=\"1\" class=\"dataframe\">\n",
       "  <thead>\n",
       "    <tr style=\"text-align: right;\">\n",
       "      <th></th>\n",
       "      <th>Question_Num</th>\n",
       "      <th>Dimension</th>\n",
       "      <th>Prompt_EN</th>\n",
       "      <th>Industry</th>\n",
       "      <th>Organization</th>\n",
       "      <th>Leader_Role</th>\n",
       "      <th>Predicted_Score</th>\n",
       "    </tr>\n",
       "  </thead>\n",
       "  <tbody>\n",
       "    <tr>\n",
       "      <th>0</th>\n",
       "      <td>1-1</td>\n",
       "      <td>Uncertainty Avoidance</td>\n",
       "      <td>You are an executive of an Oil &amp; Gas Drilling ...</td>\n",
       "      <td>Energy Equipment &amp; Services</td>\n",
       "      <td>Oil &amp; Gas Drilling</td>\n",
       "      <td>executive</td>\n",
       "      <td>0</td>\n",
       "    </tr>\n",
       "    <tr>\n",
       "      <th>1</th>\n",
       "      <td>1-2</td>\n",
       "      <td>Assertiveness</td>\n",
       "      <td>You are an executive of an Oil &amp; Gas Drilling ...</td>\n",
       "      <td>Energy Equipment &amp; Services</td>\n",
       "      <td>Oil &amp; Gas Drilling</td>\n",
       "      <td>executive</td>\n",
       "      <td>0</td>\n",
       "    </tr>\n",
       "    <tr>\n",
       "      <th>2</th>\n",
       "      <td>1-3</td>\n",
       "      <td>Future Orientation</td>\n",
       "      <td>You are an executive of an Oil &amp; Gas Drilling ...</td>\n",
       "      <td>Energy Equipment &amp; Services</td>\n",
       "      <td>Oil &amp; Gas Drilling</td>\n",
       "      <td>executive</td>\n",
       "      <td>0</td>\n",
       "    </tr>\n",
       "    <tr>\n",
       "      <th>3</th>\n",
       "      <td>1-4</td>\n",
       "      <td>Future Orientation</td>\n",
       "      <td>You are an executive of an Oil &amp; Gas Drilling ...</td>\n",
       "      <td>Energy Equipment &amp; Services</td>\n",
       "      <td>Oil &amp; Gas Drilling</td>\n",
       "      <td>executive</td>\n",
       "      <td>0</td>\n",
       "    </tr>\n",
       "    <tr>\n",
       "      <th>4</th>\n",
       "      <td>1-5</td>\n",
       "      <td>Power Distance</td>\n",
       "      <td>You are an executive of an Oil &amp; Gas Drilling ...</td>\n",
       "      <td>Energy Equipment &amp; Services</td>\n",
       "      <td>Oil &amp; Gas Drilling</td>\n",
       "      <td>executive</td>\n",
       "      <td>0</td>\n",
       "    </tr>\n",
       "  </tbody>\n",
       "</table>\n",
       "</div>"
      ],
      "text/plain": [
       "  Question_Num              Dimension  \\\n",
       "0          1-1  Uncertainty Avoidance   \n",
       "1          1-2          Assertiveness   \n",
       "2          1-3     Future Orientation   \n",
       "3          1-4     Future Orientation   \n",
       "4          1-5         Power Distance   \n",
       "\n",
       "                                           Prompt_EN  \\\n",
       "0  You are an executive of an Oil & Gas Drilling ...   \n",
       "1  You are an executive of an Oil & Gas Drilling ...   \n",
       "2  You are an executive of an Oil & Gas Drilling ...   \n",
       "3  You are an executive of an Oil & Gas Drilling ...   \n",
       "4  You are an executive of an Oil & Gas Drilling ...   \n",
       "\n",
       "                      Industry        Organization Leader_Role  \\\n",
       "0  Energy Equipment & Services  Oil & Gas Drilling   executive   \n",
       "1  Energy Equipment & Services  Oil & Gas Drilling   executive   \n",
       "2  Energy Equipment & Services  Oil & Gas Drilling   executive   \n",
       "3  Energy Equipment & Services  Oil & Gas Drilling   executive   \n",
       "4  Energy Equipment & Services  Oil & Gas Drilling   executive   \n",
       "\n",
       "   Predicted_Score  \n",
       "0                0  \n",
       "1                0  \n",
       "2                0  \n",
       "3                0  \n",
       "4                0  "
      ]
     },
     "execution_count": 85,
     "metadata": {},
     "output_type": "execute_result"
    }
   ],
   "source": [
    "df = pd.read_csv(\"data/closed_prompts.csv\")\n",
    "print(\"Example prompt: \", df.iloc[0][\"Prompt_EN\"])\n",
    "df = df[[\"Question_Num\", \"Dimension\", \"Prompt_EN\", \"Industry\", \"Organization\", \"Leader_Role\"]]\n",
    "df[\"Predicted_Score\"] = 0\n",
    "df.head()"
   ]
  },
  {
   "cell_type": "code",
   "execution_count": 114,
   "id": "cae91734-a8e6-46bf-bb2c-a4323ccaa8d0",
   "metadata": {},
   "outputs": [
    {
     "data": {
      "text/html": [
       "<div>\n",
       "<style scoped>\n",
       "    .dataframe tbody tr th:only-of-type {\n",
       "        vertical-align: middle;\n",
       "    }\n",
       "\n",
       "    .dataframe tbody tr th {\n",
       "        vertical-align: top;\n",
       "    }\n",
       "\n",
       "    .dataframe thead th {\n",
       "        text-align: right;\n",
       "    }\n",
       "</style>\n",
       "<table border=\"1\" class=\"dataframe\">\n",
       "  <thead>\n",
       "    <tr style=\"text-align: right;\">\n",
       "      <th></th>\n",
       "      <th>Question_Num</th>\n",
       "      <th>Dimension</th>\n",
       "      <th>Prompt_EN</th>\n",
       "      <th>Industry</th>\n",
       "      <th>Organization</th>\n",
       "      <th>Leader_Role</th>\n",
       "      <th>Predicted_Score</th>\n",
       "    </tr>\n",
       "  </thead>\n",
       "  <tbody>\n",
       "    <tr>\n",
       "      <th>count</th>\n",
       "      <td>36675</td>\n",
       "      <td>36675</td>\n",
       "      <td>36675</td>\n",
       "      <td>36675</td>\n",
       "      <td>36675</td>\n",
       "      <td>36675</td>\n",
       "      <td>36675</td>\n",
       "    </tr>\n",
       "    <tr>\n",
       "      <th>unique</th>\n",
       "      <td>75</td>\n",
       "      <td>9</td>\n",
       "      <td>36675</td>\n",
       "      <td>74</td>\n",
       "      <td>163</td>\n",
       "      <td>3</td>\n",
       "      <td>13</td>\n",
       "    </tr>\n",
       "    <tr>\n",
       "      <th>top</th>\n",
       "      <td>1-1</td>\n",
       "      <td>In-Group Collectivism</td>\n",
       "      <td>You are an executive of an Oil &amp; Gas Drilling ...</td>\n",
       "      <td>Metals &amp; Mining</td>\n",
       "      <td>Oil &amp; Gas Drilling</td>\n",
       "      <td>executive</td>\n",
       "      <td>0</td>\n",
       "    </tr>\n",
       "    <tr>\n",
       "      <th>freq</th>\n",
       "      <td>489</td>\n",
       "      <td>5868</td>\n",
       "      <td>1</td>\n",
       "      <td>1575</td>\n",
       "      <td>225</td>\n",
       "      <td>12225</td>\n",
       "      <td>35940</td>\n",
       "    </tr>\n",
       "  </tbody>\n",
       "</table>\n",
       "</div>"
      ],
      "text/plain": [
       "       Question_Num              Dimension  \\\n",
       "count         36675                  36675   \n",
       "unique           75                      9   \n",
       "top             1-1  In-Group Collectivism   \n",
       "freq            489                   5868   \n",
       "\n",
       "                                                Prompt_EN         Industry  \\\n",
       "count                                               36675            36675   \n",
       "unique                                              36675               74   \n",
       "top     You are an executive of an Oil & Gas Drilling ...  Metals & Mining   \n",
       "freq                                                    1             1575   \n",
       "\n",
       "              Organization Leader_Role  Predicted_Score  \n",
       "count                36675       36675            36675  \n",
       "unique                 163           3               13  \n",
       "top     Oil & Gas Drilling   executive                0  \n",
       "freq                   225       12225            35940  "
      ]
     },
     "execution_count": 114,
     "metadata": {},
     "output_type": "execute_result"
    }
   ],
   "source": [
    "df.describe()"
   ]
  },
  {
   "cell_type": "code",
   "execution_count": 161,
   "id": "b0fff01a-f164-4bed-8ccb-6f248a77b560",
   "metadata": {},
   "outputs": [
    {
     "data": {
      "text/plain": [
       "{-1,\n",
       " 'Aerospace & Defense',\n",
       " 'Air Freight & Logistics',\n",
       " 'Automobile Components',\n",
       " 'Automobiles',\n",
       " 'Banks',\n",
       " 'Beverages',\n",
       " 'Biotechnology',\n",
       " 'Broadline Retail',\n",
       " 'Building Products',\n",
       " 'Capital Markets',\n",
       " 'Chemicals',\n",
       " 'Commercial Services & Supplies',\n",
       " 'Communications Equipment',\n",
       " 'Construction & Engineering',\n",
       " 'Construction Materials',\n",
       " 'Consumer Finance',\n",
       " 'Consumer Staples Distribution & Retail',\n",
       " 'Containers & Packaging',\n",
       " 'Distributors',\n",
       " 'Diversified Consumer Services',\n",
       " 'Diversified REITs',\n",
       " 'Diversified Telecommunication Services',\n",
       " 'Electric Utilities',\n",
       " 'Electrical Equipment',\n",
       " 'Electronic Equipment, Instruments & Components',\n",
       " 'Energy Equipment & Services',\n",
       " 'Entertainment',\n",
       " 'Financial Services',\n",
       " 'Food Products',\n",
       " 'Gas Utilities',\n",
       " 'Ground Transportation',\n",
       " 'Health Care Equipment & Supplies',\n",
       " 'Health Care Providers & Services',\n",
       " 'Health Care REITs',\n",
       " 'Health Care Technology',\n",
       " 'Hotel & Resort REITs',\n",
       " 'Hotels, Restaurants & Leisure',\n",
       " 'Household Durables',\n",
       " 'Household Products',\n",
       " 'IT Services',\n",
       " 'Independent Power and Renewable Electricity Producers',\n",
       " 'Industrial Conglomerates',\n",
       " 'Industrial REITs',\n",
       " 'Insurance',\n",
       " 'Interactive Media & Services',\n",
       " 'Leisure Products',\n",
       " 'Life Sciences Tools & Services',\n",
       " 'Machinery',\n",
       " 'Marine Transportation',\n",
       " 'Media',\n",
       " 'Metals & Mining',\n",
       " 'Mortgage Real Estate Investment\\nTrusts (REITs)',\n",
       " 'Multi-Utilities',\n",
       " 'Office REITs',\n",
       " 'Oil, Gas & Consumable Fuels',\n",
       " 'Paper & Forest Products',\n",
       " 'Passenger Airlines',\n",
       " 'Personal Care Products',\n",
       " 'Pharmaceuticals',\n",
       " 'Professional Services',\n",
       " 'Real Estate Management & Development',\n",
       " 'Residential REITs',\n",
       " 'Retail REITs',\n",
       " 'Semiconductors & Semiconductor Equipment',\n",
       " 'Software',\n",
       " 'Specialized REITs',\n",
       " 'Specialty Retail',\n",
       " 'Technology Hardware, Storage & Peripherals',\n",
       " 'Textiles, Apparel & Luxury Goods',\n",
       " 'Tobacco',\n",
       " 'Trading Companies & Distributors',\n",
       " 'Transportation Infrastructure',\n",
       " 'Water Utilities',\n",
       " 'Wireless Telecommunication Services'}"
      ]
     },
     "execution_count": 161,
     "metadata": {},
     "output_type": "execute_result"
    }
   ],
   "source": [
    "set(df[\"Industry\"])"
   ]
  },
  {
   "cell_type": "code",
   "execution_count": 84,
   "id": "94801b1b-0d37-4aad-a3d2-1af94000ce7b",
   "metadata": {},
   "outputs": [
    {
     "data": {
      "text/plain": [
       "36675"
      ]
     },
     "execution_count": 84,
     "metadata": {},
     "output_type": "execute_result"
    }
   ],
   "source": [
    "total_count = len(df)\n",
    "total_count"
   ]
  },
  {
   "cell_type": "code",
   "execution_count": 23,
   "id": "ee8bb855-2504-4440-9cf2-ee7acd1a4a3f",
   "metadata": {},
   "outputs": [
    {
     "data": {
      "text/html": [
       "<div>\n",
       "<style scoped>\n",
       "    .dataframe tbody tr th:only-of-type {\n",
       "        vertical-align: middle;\n",
       "    }\n",
       "\n",
       "    .dataframe tbody tr th {\n",
       "        vertical-align: top;\n",
       "    }\n",
       "\n",
       "    .dataframe thead th {\n",
       "        text-align: right;\n",
       "    }\n",
       "</style>\n",
       "<table border=\"1\" class=\"dataframe\">\n",
       "  <thead>\n",
       "    <tr style=\"text-align: right;\">\n",
       "      <th></th>\n",
       "      <th>Dimension</th>\n",
       "      <th>p_score</th>\n",
       "      <th>v_score</th>\n",
       "    </tr>\n",
       "  </thead>\n",
       "  <tbody>\n",
       "    <tr>\n",
       "      <th>0</th>\n",
       "      <td>Performance orientation</td>\n",
       "      <td>4.32</td>\n",
       "      <td>5.49</td>\n",
       "    </tr>\n",
       "    <tr>\n",
       "      <th>1</th>\n",
       "      <td>Assertiveness</td>\n",
       "      <td>4.32</td>\n",
       "      <td>3.02</td>\n",
       "    </tr>\n",
       "    <tr>\n",
       "      <th>2</th>\n",
       "      <td>Future orientation</td>\n",
       "      <td>4.61</td>\n",
       "      <td>5.07</td>\n",
       "    </tr>\n",
       "    <tr>\n",
       "      <th>3</th>\n",
       "      <td>Humane orientation</td>\n",
       "      <td>3.86</td>\n",
       "      <td>5.20</td>\n",
       "    </tr>\n",
       "    <tr>\n",
       "      <th>4</th>\n",
       "      <td>Institutional collectivism</td>\n",
       "      <td>4.46</td>\n",
       "      <td>4.55</td>\n",
       "    </tr>\n",
       "    <tr>\n",
       "      <th>5</th>\n",
       "      <td>In-group collectivism</td>\n",
       "      <td>3.70</td>\n",
       "      <td>5.17</td>\n",
       "    </tr>\n",
       "    <tr>\n",
       "      <th>6</th>\n",
       "      <td>Gender egalitarianism</td>\n",
       "      <td>3.50</td>\n",
       "      <td>4.99</td>\n",
       "    </tr>\n",
       "    <tr>\n",
       "      <th>7</th>\n",
       "      <td>Power Distance</td>\n",
       "      <td>4.11</td>\n",
       "      <td>2.45</td>\n",
       "    </tr>\n",
       "    <tr>\n",
       "      <th>8</th>\n",
       "      <td>Uncertainty avoidance</td>\n",
       "      <td>4.70</td>\n",
       "      <td>3.24</td>\n",
       "    </tr>\n",
       "  </tbody>\n",
       "</table>\n",
       "</div>"
      ],
      "text/plain": [
       "                    Dimension  p_score  v_score\n",
       "0     Performance orientation     4.32     5.49\n",
       "1               Assertiveness     4.32     3.02\n",
       "2          Future orientation     4.61     5.07\n",
       "3          Humane orientation     3.86     5.20\n",
       "4  Institutional collectivism     4.46     4.55\n",
       "5       In-group collectivism     3.70     5.17\n",
       "6       Gender egalitarianism     3.50     4.99\n",
       "7              Power Distance     4.11     2.45\n",
       "8       Uncertainty avoidance     4.70     3.24"
      ]
     },
     "execution_count": 23,
     "metadata": {},
     "output_type": "execute_result"
    }
   ],
   "source": [
    "df_nl = pd.read_json(\"data/netherlands.json\")\n",
    "\n",
    "def unfold_row(row):\n",
    "    values = row[\"values\"]\n",
    "    p_score = [v[\"score\"] for v in values if v[\"name\"] == \"practice\" ][0]\n",
    "    v_score = [v[\"score\"] for v in values if v[\"name\"] == \"value\" ][0]\n",
    "    \n",
    "    return pd.Series({\n",
    "        'Dimension': row['title'],\n",
    "        'p_score': p_score,\n",
    "        'v_score': v_score\n",
    "        \n",
    "    })\n",
    "\n",
    "nl_results = pd.DataFrame([unfold_row(row) for i, row in df_nl.iterrows()])\n",
    "nl_results"
   ]
  },
  {
   "cell_type": "code",
   "execution_count": 168,
   "id": "800304e1-e764-4877-8085-baa21f36ddd8",
   "metadata": {},
   "outputs": [
    {
     "name": "stdout",
     "output_type": "stream",
     "text": [
      "Evaluating 0 records\n",
      "\n"
     ]
    }
   ],
   "source": [
    "def generate_prediction(prompt, concise=True):\n",
    "    inputs = tokenizer(prompt, return_tensors=\"pt\").to('cuda')\n",
    "    result = model.generate(\n",
    "        input_ids=inputs[\"input_ids\"],\n",
    "        attention_mask=inputs[\"attention_mask\"],\n",
    "        eos_token_id=tokenizer.eos_token_id,\n",
    "        pad_token_id=tokenizer.pad_token_id,        \n",
    "        max_new_tokens=250,\n",
    "        # early_stopping=True,\n",
    "        # num_beams=3, ## Allowing more than 2 beams to be calculated caused my GPU to go out of memory.\n",
    "        # do_sample=True,\n",
    "    )\n",
    "\n",
    "    prediction = tokenizer.decode(result[0])\n",
    "\n",
    "    if concise:\n",
    "        answer = re.findall(r'ANSWER:(\\d)', prediction)\n",
    "        return (answer and answer[-1]) or -1\n",
    "    else:\n",
    "        return prediction\n",
    "\n",
    "format_postfix = \"\\n Return your final answer in the following format: \\n\\n ANSWER:integer \\n\\n\"\n",
    "\n",
    "def evaluate_model():\n",
    "    t0 = time.time()\n",
    "\n",
    "    # Evaluation was done in batches per industry.\n",
    "    ds = df[(df[\"Predicted_Score\"] == 0) & (df[\"Industry\"] == \"Technology Hardware, Storage & Peripherals\")] \n",
    "    print(f'Evaluating {len(ds)} records\\n')\n",
    "\n",
    "    for i, row in ds.iterrows():\n",
    "        dimension = row[\"Dimension\"].lower()\n",
    "        prompt = row[\"Prompt_EN\"] + format_postfix\n",
    "        prediction = generate_prediction(prompt)\n",
    "\n",
    "        df.loc[i, \"Predicted_Score\"] = int(prediction)\n",
    "\n",
    "        if (i % 50 == 0):\n",
    "            print(f\"Still busy! {i}\")\n",
    "            # t1 = time.time()\n",
    "            # print(f'{round((t1-t0) / i)}s/r, {round(i / len(ds) * 100, 3)}% done.', end=\"\\r\")\n",
    "\n",
    "# Run the evaluation\n",
    "evaluate_model()"
   ]
  },
  {
   "cell_type": "code",
   "execution_count": 164,
   "id": "7b85128c-9a9f-4c63-b9db-0656826d70aa",
   "metadata": {},
   "outputs": [],
   "source": [
    "df.to_csv(\"data/with_predictions.csv\")"
   ]
  },
  {
   "cell_type": "code",
   "execution_count": 170,
   "id": "aa96c11c-4137-4b89-9e9e-3e91437a32ce",
   "metadata": {},
   "outputs": [
    {
     "name": "stdout",
     "output_type": "stream",
     "text": [
      "Dimension\n",
      "Assertiveness                            3.772152\n",
      "Future Orientation                       3.140351\n",
      "Gender Differentiation/Egalitarianism    4.036364\n",
      "Humane Orientation                       3.742857\n",
      "In-Group Collectivism                    3.813725\n",
      "Institutional Collectivism               4.085106\n",
      "Performance Orientation                  3.386667\n",
      "Power Distance                           3.385542\n",
      "Uncertainty Avoidance                    3.272727\n",
      "Name: Predicted_Score, dtype: float64\n"
     ]
    },
    {
     "data": {
      "application/vnd.plotly.v1+json": {
       "config": {
        "plotlyServerURL": "https://plot.ly"
       },
       "data": [
        {
         "fill": "toself",
         "name": "DeepSeek Scores",
         "r": [
          3.7721518987341773,
          3.1403508771929824,
          4.036363636363636,
          3.742857142857143,
          3.8137254901960786,
          4.085106382978723,
          3.3866666666666667,
          3.3855421686746987,
          3.272727272727273
         ],
         "theta": [
          "Assertiveness",
          "Future Orientation",
          "Gender Differentiation/Egalitarianism",
          "Humane Orientation",
          "In-Group Collectivism",
          "Institutional Collectivism",
          "Performance Orientation",
          "Power Distance",
          "Uncertainty Avoidance"
         ],
         "type": "scatterpolar"
        },
        {
         "fill": "toself",
         "name": "NL Practice",
         "r": [
          4.32,
          4.32,
          4.61,
          3.86,
          4.46,
          3.7,
          3.5,
          4.11,
          4.7
         ],
         "theta": [
          "Assertiveness",
          "Future Orientation",
          "Gender Differentiation/Egalitarianism",
          "Humane Orientation",
          "In-Group Collectivism",
          "Institutional Collectivism",
          "Performance Orientation",
          "Power Distance",
          "Uncertainty Avoidance"
         ],
         "type": "scatterpolar",
         "visible": "legendonly"
        },
        {
         "fill": "toself",
         "name": "NL Values",
         "r": [
          5.49,
          3.02,
          5.07,
          5.2,
          4.55,
          5.17,
          4.99,
          2.45,
          3.24
         ],
         "theta": [
          "Assertiveness",
          "Future Orientation",
          "Gender Differentiation/Egalitarianism",
          "Humane Orientation",
          "In-Group Collectivism",
          "Institutional Collectivism",
          "Performance Orientation",
          "Power Distance",
          "Uncertainty Avoidance"
         ],
         "type": "scatterpolar",
         "visible": "legendonly"
        },
        {
         "fill": "toself",
         "name": "NL Avg values",
         "r": [
          4.905,
          3.67,
          4.84,
          4.53,
          4.505,
          4.4350000000000005,
          4.245,
          3.2800000000000002,
          3.97
         ],
         "theta": [
          "Assertiveness",
          "Future Orientation",
          "Gender Differentiation/Egalitarianism",
          "Humane Orientation",
          "In-Group Collectivism",
          "Institutional Collectivism",
          "Performance Orientation",
          "Power Distance",
          "Uncertainty Avoidance"
         ],
         "type": "scatterpolar"
        }
       ],
       "layout": {
        "height": 800,
        "polar": {
         "angularaxis": {
          "type": "category"
         },
         "radialaxis": {
          "autorange": false,
          "range": [
           1,
           7
          ],
          "type": "linear",
          "visible": true
         }
        },
        "showlegend": true,
        "template": {
         "data": {
          "bar": [
           {
            "error_x": {
             "color": "#2a3f5f"
            },
            "error_y": {
             "color": "#2a3f5f"
            },
            "marker": {
             "line": {
              "color": "#E5ECF6",
              "width": 0.5
             },
             "pattern": {
              "fillmode": "overlay",
              "size": 10,
              "solidity": 0.2
             }
            },
            "type": "bar"
           }
          ],
          "barpolar": [
           {
            "marker": {
             "line": {
              "color": "#E5ECF6",
              "width": 0.5
             },
             "pattern": {
              "fillmode": "overlay",
              "size": 10,
              "solidity": 0.2
             }
            },
            "type": "barpolar"
           }
          ],
          "carpet": [
           {
            "aaxis": {
             "endlinecolor": "#2a3f5f",
             "gridcolor": "white",
             "linecolor": "white",
             "minorgridcolor": "white",
             "startlinecolor": "#2a3f5f"
            },
            "baxis": {
             "endlinecolor": "#2a3f5f",
             "gridcolor": "white",
             "linecolor": "white",
             "minorgridcolor": "white",
             "startlinecolor": "#2a3f5f"
            },
            "type": "carpet"
           }
          ],
          "choropleth": [
           {
            "colorbar": {
             "outlinewidth": 0,
             "ticks": ""
            },
            "type": "choropleth"
           }
          ],
          "contour": [
           {
            "colorbar": {
             "outlinewidth": 0,
             "ticks": ""
            },
            "colorscale": [
             [
              0,
              "#0d0887"
             ],
             [
              0.1111111111111111,
              "#46039f"
             ],
             [
              0.2222222222222222,
              "#7201a8"
             ],
             [
              0.3333333333333333,
              "#9c179e"
             ],
             [
              0.4444444444444444,
              "#bd3786"
             ],
             [
              0.5555555555555556,
              "#d8576b"
             ],
             [
              0.6666666666666666,
              "#ed7953"
             ],
             [
              0.7777777777777778,
              "#fb9f3a"
             ],
             [
              0.8888888888888888,
              "#fdca26"
             ],
             [
              1,
              "#f0f921"
             ]
            ],
            "type": "contour"
           }
          ],
          "contourcarpet": [
           {
            "colorbar": {
             "outlinewidth": 0,
             "ticks": ""
            },
            "type": "contourcarpet"
           }
          ],
          "heatmap": [
           {
            "colorbar": {
             "outlinewidth": 0,
             "ticks": ""
            },
            "colorscale": [
             [
              0,
              "#0d0887"
             ],
             [
              0.1111111111111111,
              "#46039f"
             ],
             [
              0.2222222222222222,
              "#7201a8"
             ],
             [
              0.3333333333333333,
              "#9c179e"
             ],
             [
              0.4444444444444444,
              "#bd3786"
             ],
             [
              0.5555555555555556,
              "#d8576b"
             ],
             [
              0.6666666666666666,
              "#ed7953"
             ],
             [
              0.7777777777777778,
              "#fb9f3a"
             ],
             [
              0.8888888888888888,
              "#fdca26"
             ],
             [
              1,
              "#f0f921"
             ]
            ],
            "type": "heatmap"
           }
          ],
          "heatmapgl": [
           {
            "colorbar": {
             "outlinewidth": 0,
             "ticks": ""
            },
            "colorscale": [
             [
              0,
              "#0d0887"
             ],
             [
              0.1111111111111111,
              "#46039f"
             ],
             [
              0.2222222222222222,
              "#7201a8"
             ],
             [
              0.3333333333333333,
              "#9c179e"
             ],
             [
              0.4444444444444444,
              "#bd3786"
             ],
             [
              0.5555555555555556,
              "#d8576b"
             ],
             [
              0.6666666666666666,
              "#ed7953"
             ],
             [
              0.7777777777777778,
              "#fb9f3a"
             ],
             [
              0.8888888888888888,
              "#fdca26"
             ],
             [
              1,
              "#f0f921"
             ]
            ],
            "type": "heatmapgl"
           }
          ],
          "histogram": [
           {
            "marker": {
             "pattern": {
              "fillmode": "overlay",
              "size": 10,
              "solidity": 0.2
             }
            },
            "type": "histogram"
           }
          ],
          "histogram2d": [
           {
            "colorbar": {
             "outlinewidth": 0,
             "ticks": ""
            },
            "colorscale": [
             [
              0,
              "#0d0887"
             ],
             [
              0.1111111111111111,
              "#46039f"
             ],
             [
              0.2222222222222222,
              "#7201a8"
             ],
             [
              0.3333333333333333,
              "#9c179e"
             ],
             [
              0.4444444444444444,
              "#bd3786"
             ],
             [
              0.5555555555555556,
              "#d8576b"
             ],
             [
              0.6666666666666666,
              "#ed7953"
             ],
             [
              0.7777777777777778,
              "#fb9f3a"
             ],
             [
              0.8888888888888888,
              "#fdca26"
             ],
             [
              1,
              "#f0f921"
             ]
            ],
            "type": "histogram2d"
           }
          ],
          "histogram2dcontour": [
           {
            "colorbar": {
             "outlinewidth": 0,
             "ticks": ""
            },
            "colorscale": [
             [
              0,
              "#0d0887"
             ],
             [
              0.1111111111111111,
              "#46039f"
             ],
             [
              0.2222222222222222,
              "#7201a8"
             ],
             [
              0.3333333333333333,
              "#9c179e"
             ],
             [
              0.4444444444444444,
              "#bd3786"
             ],
             [
              0.5555555555555556,
              "#d8576b"
             ],
             [
              0.6666666666666666,
              "#ed7953"
             ],
             [
              0.7777777777777778,
              "#fb9f3a"
             ],
             [
              0.8888888888888888,
              "#fdca26"
             ],
             [
              1,
              "#f0f921"
             ]
            ],
            "type": "histogram2dcontour"
           }
          ],
          "mesh3d": [
           {
            "colorbar": {
             "outlinewidth": 0,
             "ticks": ""
            },
            "type": "mesh3d"
           }
          ],
          "parcoords": [
           {
            "line": {
             "colorbar": {
              "outlinewidth": 0,
              "ticks": ""
             }
            },
            "type": "parcoords"
           }
          ],
          "pie": [
           {
            "automargin": true,
            "type": "pie"
           }
          ],
          "scatter": [
           {
            "fillpattern": {
             "fillmode": "overlay",
             "size": 10,
             "solidity": 0.2
            },
            "type": "scatter"
           }
          ],
          "scatter3d": [
           {
            "line": {
             "colorbar": {
              "outlinewidth": 0,
              "ticks": ""
             }
            },
            "marker": {
             "colorbar": {
              "outlinewidth": 0,
              "ticks": ""
             }
            },
            "type": "scatter3d"
           }
          ],
          "scattercarpet": [
           {
            "marker": {
             "colorbar": {
              "outlinewidth": 0,
              "ticks": ""
             }
            },
            "type": "scattercarpet"
           }
          ],
          "scattergeo": [
           {
            "marker": {
             "colorbar": {
              "outlinewidth": 0,
              "ticks": ""
             }
            },
            "type": "scattergeo"
           }
          ],
          "scattergl": [
           {
            "marker": {
             "colorbar": {
              "outlinewidth": 0,
              "ticks": ""
             }
            },
            "type": "scattergl"
           }
          ],
          "scattermapbox": [
           {
            "marker": {
             "colorbar": {
              "outlinewidth": 0,
              "ticks": ""
             }
            },
            "type": "scattermapbox"
           }
          ],
          "scatterpolar": [
           {
            "marker": {
             "colorbar": {
              "outlinewidth": 0,
              "ticks": ""
             }
            },
            "type": "scatterpolar"
           }
          ],
          "scatterpolargl": [
           {
            "marker": {
             "colorbar": {
              "outlinewidth": 0,
              "ticks": ""
             }
            },
            "type": "scatterpolargl"
           }
          ],
          "scatterternary": [
           {
            "marker": {
             "colorbar": {
              "outlinewidth": 0,
              "ticks": ""
             }
            },
            "type": "scatterternary"
           }
          ],
          "surface": [
           {
            "colorbar": {
             "outlinewidth": 0,
             "ticks": ""
            },
            "colorscale": [
             [
              0,
              "#0d0887"
             ],
             [
              0.1111111111111111,
              "#46039f"
             ],
             [
              0.2222222222222222,
              "#7201a8"
             ],
             [
              0.3333333333333333,
              "#9c179e"
             ],
             [
              0.4444444444444444,
              "#bd3786"
             ],
             [
              0.5555555555555556,
              "#d8576b"
             ],
             [
              0.6666666666666666,
              "#ed7953"
             ],
             [
              0.7777777777777778,
              "#fb9f3a"
             ],
             [
              0.8888888888888888,
              "#fdca26"
             ],
             [
              1,
              "#f0f921"
             ]
            ],
            "type": "surface"
           }
          ],
          "table": [
           {
            "cells": {
             "fill": {
              "color": "#EBF0F8"
             },
             "line": {
              "color": "white"
             }
            },
            "header": {
             "fill": {
              "color": "#C8D4E3"
             },
             "line": {
              "color": "white"
             }
            },
            "type": "table"
           }
          ]
         },
         "layout": {
          "annotationdefaults": {
           "arrowcolor": "#2a3f5f",
           "arrowhead": 0,
           "arrowwidth": 1
          },
          "autotypenumbers": "strict",
          "coloraxis": {
           "colorbar": {
            "outlinewidth": 0,
            "ticks": ""
           }
          },
          "colorscale": {
           "diverging": [
            [
             0,
             "#8e0152"
            ],
            [
             0.1,
             "#c51b7d"
            ],
            [
             0.2,
             "#de77ae"
            ],
            [
             0.3,
             "#f1b6da"
            ],
            [
             0.4,
             "#fde0ef"
            ],
            [
             0.5,
             "#f7f7f7"
            ],
            [
             0.6,
             "#e6f5d0"
            ],
            [
             0.7,
             "#b8e186"
            ],
            [
             0.8,
             "#7fbc41"
            ],
            [
             0.9,
             "#4d9221"
            ],
            [
             1,
             "#276419"
            ]
           ],
           "sequential": [
            [
             0,
             "#0d0887"
            ],
            [
             0.1111111111111111,
             "#46039f"
            ],
            [
             0.2222222222222222,
             "#7201a8"
            ],
            [
             0.3333333333333333,
             "#9c179e"
            ],
            [
             0.4444444444444444,
             "#bd3786"
            ],
            [
             0.5555555555555556,
             "#d8576b"
            ],
            [
             0.6666666666666666,
             "#ed7953"
            ],
            [
             0.7777777777777778,
             "#fb9f3a"
            ],
            [
             0.8888888888888888,
             "#fdca26"
            ],
            [
             1,
             "#f0f921"
            ]
           ],
           "sequentialminus": [
            [
             0,
             "#0d0887"
            ],
            [
             0.1111111111111111,
             "#46039f"
            ],
            [
             0.2222222222222222,
             "#7201a8"
            ],
            [
             0.3333333333333333,
             "#9c179e"
            ],
            [
             0.4444444444444444,
             "#bd3786"
            ],
            [
             0.5555555555555556,
             "#d8576b"
            ],
            [
             0.6666666666666666,
             "#ed7953"
            ],
            [
             0.7777777777777778,
             "#fb9f3a"
            ],
            [
             0.8888888888888888,
             "#fdca26"
            ],
            [
             1,
             "#f0f921"
            ]
           ]
          },
          "colorway": [
           "#636efa",
           "#EF553B",
           "#00cc96",
           "#ab63fa",
           "#FFA15A",
           "#19d3f3",
           "#FF6692",
           "#B6E880",
           "#FF97FF",
           "#FECB52"
          ],
          "font": {
           "color": "#2a3f5f"
          },
          "geo": {
           "bgcolor": "white",
           "lakecolor": "white",
           "landcolor": "#E5ECF6",
           "showlakes": true,
           "showland": true,
           "subunitcolor": "white"
          },
          "hoverlabel": {
           "align": "left"
          },
          "hovermode": "closest",
          "mapbox": {
           "style": "light"
          },
          "paper_bgcolor": "white",
          "plot_bgcolor": "#E5ECF6",
          "polar": {
           "angularaxis": {
            "gridcolor": "white",
            "linecolor": "white",
            "ticks": ""
           },
           "bgcolor": "#E5ECF6",
           "radialaxis": {
            "gridcolor": "white",
            "linecolor": "white",
            "ticks": ""
           }
          },
          "scene": {
           "xaxis": {
            "backgroundcolor": "#E5ECF6",
            "gridcolor": "white",
            "gridwidth": 2,
            "linecolor": "white",
            "showbackground": true,
            "ticks": "",
            "zerolinecolor": "white"
           },
           "yaxis": {
            "backgroundcolor": "#E5ECF6",
            "gridcolor": "white",
            "gridwidth": 2,
            "linecolor": "white",
            "showbackground": true,
            "ticks": "",
            "zerolinecolor": "white"
           },
           "zaxis": {
            "backgroundcolor": "#E5ECF6",
            "gridcolor": "white",
            "gridwidth": 2,
            "linecolor": "white",
            "showbackground": true,
            "ticks": "",
            "zerolinecolor": "white"
           }
          },
          "shapedefaults": {
           "line": {
            "color": "#2a3f5f"
           }
          },
          "ternary": {
           "aaxis": {
            "gridcolor": "white",
            "linecolor": "white",
            "ticks": ""
           },
           "baxis": {
            "gridcolor": "white",
            "linecolor": "white",
            "ticks": ""
           },
           "bgcolor": "#E5ECF6",
           "caxis": {
            "gridcolor": "white",
            "linecolor": "white",
            "ticks": ""
           }
          },
          "title": {
           "x": 0.05
          },
          "xaxis": {
           "automargin": true,
           "gridcolor": "white",
           "linecolor": "white",
           "ticks": "",
           "title": {
            "standoff": 15
           },
           "zerolinecolor": "white",
           "zerolinewidth": 2
          },
          "yaxis": {
           "automargin": true,
           "gridcolor": "white",
           "linecolor": "white",
           "ticks": "",
           "title": {
            "standoff": 15
           },
           "zerolinecolor": "white",
           "zerolinewidth": 2
          }
         }
        },
        "width": 1000
       }
      },
      "image/png": "[encoded data removed]",
      "text/html": [
       "<div>                            <div id=\"ff441e1a-1f38-4f01-9ebc-29511b4ebdec\" class=\"plotly-graph-div\" style=\"height:800px; width:1000px;\"></div>            <script type=\"text/javascript\">                require([\"plotly\"], function(Plotly) {                    window.PLOTLYENV=window.PLOTLYENV || {};                                    if (document.getElementById(\"ff441e1a-1f38-4f01-9ebc-29511b4ebdec\")) {                    Plotly.newPlot(                        \"ff441e1a-1f38-4f01-9ebc-29511b4ebdec\",                        [{\"fill\":\"toself\",\"name\":\"DeepSeek Scores\",\"r\":[3.7721518987341773,3.1403508771929824,4.036363636363636,3.742857142857143,3.8137254901960786,4.085106382978723,3.3866666666666667,3.3855421686746987,3.272727272727273],\"theta\":[\"Assertiveness\",\"Future Orientation\",\"Gender Differentiation\\u002fEgalitarianism\",\"Humane Orientation\",\"In-Group Collectivism\",\"Institutional Collectivism\",\"Performance Orientation\",\"Power Distance\",\"Uncertainty Avoidance\"],\"type\":\"scatterpolar\"},{\"fill\":\"toself\",\"name\":\"NL Practice\",\"r\":[4.32,4.32,4.61,3.86,4.46,3.7,3.5,4.11,4.7],\"theta\":[\"Assertiveness\",\"Future Orientation\",\"Gender Differentiation\\u002fEgalitarianism\",\"Humane Orientation\",\"In-Group Collectivism\",\"Institutional Collectivism\",\"Performance Orientation\",\"Power Distance\",\"Uncertainty Avoidance\"],\"type\":\"scatterpolar\"},{\"fill\":\"toself\",\"name\":\"NL Values\",\"r\":[5.49,3.02,5.07,5.2,4.55,5.17,4.99,2.45,3.24],\"theta\":[\"Assertiveness\",\"Future Orientation\",\"Gender Differentiation\\u002fEgalitarianism\",\"Humane Orientation\",\"In-Group Collectivism\",\"Institutional Collectivism\",\"Performance Orientation\",\"Power Distance\",\"Uncertainty Avoidance\"],\"type\":\"scatterpolar\"},{\"fill\":\"toself\",\"name\":\"NL Avg values\",\"r\":[4.905,3.67,4.84,4.53,4.505,4.4350000000000005,4.245,3.2800000000000002,3.97],\"theta\":[\"Assertiveness\",\"Future Orientation\",\"Gender Differentiation\\u002fEgalitarianism\",\"Humane Orientation\",\"In-Group Collectivism\",\"Institutional Collectivism\",\"Performance Orientation\",\"Power Distance\",\"Uncertainty Avoidance\"],\"type\":\"scatterpolar\"}],                        {\"template\":{\"data\":{\"histogram2dcontour\":[{\"type\":\"histogram2dcontour\",\"colorbar\":{\"outlinewidth\":0,\"ticks\":\"\"},\"colorscale\":[[0.0,\"#0d0887\"],[0.1111111111111111,\"#46039f\"],[0.2222222222222222,\"#7201a8\"],[0.3333333333333333,\"#9c179e\"],[0.4444444444444444,\"#bd3786\"],[0.5555555555555556,\"#d8576b\"],[0.6666666666666666,\"#ed7953\"],[0.7777777777777778,\"#fb9f3a\"],[0.8888888888888888,\"#fdca26\"],[1.0,\"#f0f921\"]]}],\"choropleth\":[{\"type\":\"choropleth\",\"colorbar\":{\"outlinewidth\":0,\"ticks\":\"\"}}],\"histogram2d\":[{\"type\":\"histogram2d\",\"colorbar\":{\"outlinewidth\":0,\"ticks\":\"\"},\"colorscale\":[[0.0,\"#0d0887\"],[0.1111111111111111,\"#46039f\"],[0.2222222222222222,\"#7201a8\"],[0.3333333333333333,\"#9c179e\"],[0.4444444444444444,\"#bd3786\"],[0.5555555555555556,\"#d8576b\"],[0.6666666666666666,\"#ed7953\"],[0.7777777777777778,\"#fb9f3a\"],[0.8888888888888888,\"#fdca26\"],[1.0,\"#f0f921\"]]}],\"heatmap\":[{\"type\":\"heatmap\",\"colorbar\":{\"outlinewidth\":0,\"ticks\":\"\"},\"colorscale\":[[0.0,\"#0d0887\"],[0.1111111111111111,\"#46039f\"],[0.2222222222222222,\"#7201a8\"],[0.3333333333333333,\"#9c179e\"],[0.4444444444444444,\"#bd3786\"],[0.5555555555555556,\"#d8576b\"],[0.6666666666666666,\"#ed7953\"],[0.7777777777777778,\"#fb9f3a\"],[0.8888888888888888,\"#fdca26\"],[1.0,\"#f0f921\"]]}],\"heatmapgl\":[{\"type\":\"heatmapgl\",\"colorbar\":{\"outlinewidth\":0,\"ticks\":\"\"},\"colorscale\":[[0.0,\"#0d0887\"],[0.1111111111111111,\"#46039f\"],[0.2222222222222222,\"#7201a8\"],[0.3333333333333333,\"#9c179e\"],[0.4444444444444444,\"#bd3786\"],[0.5555555555555556,\"#d8576b\"],[0.6666666666666666,\"#ed7953\"],[0.7777777777777778,\"#fb9f3a\"],[0.8888888888888888,\"#fdca26\"],[1.0,\"#f0f921\"]]}],\"contourcarpet\":[{\"type\":\"contourcarpet\",\"colorbar\":{\"outlinewidth\":0,\"ticks\":\"\"}}],\"contour\":[{\"type\":\"contour\",\"colorbar\":{\"outlinewidth\":0,\"ticks\":\"\"},\"colorscale\":[[0.0,\"#0d0887\"],[0.1111111111111111,\"#46039f\"],[0.2222222222222222,\"#7201a8\"],[0.3333333333333333,\"#9c179e\"],[0.4444444444444444,\"#bd3786\"],[0.5555555555555556,\"#d8576b\"],[0.6666666666666666,\"#ed7953\"],[0.7777777777777778,\"#fb9f3a\"],[0.8888888888888888,\"#fdca26\"],[1.0,\"#f0f921\"]]}],\"surface\":[{\"type\":\"surface\",\"colorbar\":{\"outlinewidth\":0,\"ticks\":\"\"},\"colorscale\":[[0.0,\"#0d0887\"],[0.1111111111111111,\"#46039f\"],[0.2222222222222222,\"#7201a8\"],[0.3333333333333333,\"#9c179e\"],[0.4444444444444444,\"#bd3786\"],[0.5555555555555556,\"#d8576b\"],[0.6666666666666666,\"#ed7953\"],[0.7777777777777778,\"#fb9f3a\"],[0.8888888888888888,\"#fdca26\"],[1.0,\"#f0f921\"]]}],\"mesh3d\":[{\"type\":\"mesh3d\",\"colorbar\":{\"outlinewidth\":0,\"ticks\":\"\"}}],\"scatter\":[{\"fillpattern\":{\"fillmode\":\"overlay\",\"size\":10,\"solidity\":0.2},\"type\":\"scatter\"}],\"parcoords\":[{\"type\":\"parcoords\",\"line\":{\"colorbar\":{\"outlinewidth\":0,\"ticks\":\"\"}}}],\"scatterpolargl\":[{\"type\":\"scatterpolargl\",\"marker\":{\"colorbar\":{\"outlinewidth\":0,\"ticks\":\"\"}}}],\"bar\":[{\"error_x\":{\"color\":\"#2a3f5f\"},\"error_y\":{\"color\":\"#2a3f5f\"},\"marker\":{\"line\":{\"color\":\"#E5ECF6\",\"width\":0.5},\"pattern\":{\"fillmode\":\"overlay\",\"size\":10,\"solidity\":0.2}},\"type\":\"bar\"}],\"scattergeo\":[{\"type\":\"scattergeo\",\"marker\":{\"colorbar\":{\"outlinewidth\":0,\"ticks\":\"\"}}}],\"scatterpolar\":[{\"type\":\"scatterpolar\",\"marker\":{\"colorbar\":{\"outlinewidth\":0,\"ticks\":\"\"}}}],\"histogram\":[{\"marker\":{\"pattern\":{\"fillmode\":\"overlay\",\"size\":10,\"solidity\":0.2}},\"type\":\"histogram\"}],\"scattergl\":[{\"type\":\"scattergl\",\"marker\":{\"colorbar\":{\"outlinewidth\":0,\"ticks\":\"\"}}}],\"scatter3d\":[{\"type\":\"scatter3d\",\"line\":{\"colorbar\":{\"outlinewidth\":0,\"ticks\":\"\"}},\"marker\":{\"colorbar\":{\"outlinewidth\":0,\"ticks\":\"\"}}}],\"scattermapbox\":[{\"type\":\"scattermapbox\",\"marker\":{\"colorbar\":{\"outlinewidth\":0,\"ticks\":\"\"}}}],\"scatterternary\":[{\"type\":\"scatterternary\",\"marker\":{\"colorbar\":{\"outlinewidth\":0,\"ticks\":\"\"}}}],\"scattercarpet\":[{\"type\":\"scattercarpet\",\"marker\":{\"colorbar\":{\"outlinewidth\":0,\"ticks\":\"\"}}}],\"carpet\":[{\"aaxis\":{\"endlinecolor\":\"#2a3f5f\",\"gridcolor\":\"white\",\"linecolor\":\"white\",\"minorgridcolor\":\"white\",\"startlinecolor\":\"#2a3f5f\"},\"baxis\":{\"endlinecolor\":\"#2a3f5f\",\"gridcolor\":\"white\",\"linecolor\":\"white\",\"minorgridcolor\":\"white\",\"startlinecolor\":\"#2a3f5f\"},\"type\":\"carpet\"}],\"table\":[{\"cells\":{\"fill\":{\"color\":\"#EBF0F8\"},\"line\":{\"color\":\"white\"}},\"header\":{\"fill\":{\"color\":\"#C8D4E3\"},\"line\":{\"color\":\"white\"}},\"type\":\"table\"}],\"barpolar\":[{\"marker\":{\"line\":{\"color\":\"#E5ECF6\",\"width\":0.5},\"pattern\":{\"fillmode\":\"overlay\",\"size\":10,\"solidity\":0.2}},\"type\":\"barpolar\"}],\"pie\":[{\"automargin\":true,\"type\":\"pie\"}]},\"layout\":{\"autotypenumbers\":\"strict\",\"colorway\":[\"#636efa\",\"#EF553B\",\"#00cc96\",\"#ab63fa\",\"#FFA15A\",\"#19d3f3\",\"#FF6692\",\"#B6E880\",\"#FF97FF\",\"#FECB52\"],\"font\":{\"color\":\"#2a3f5f\"},\"hovermode\":\"closest\",\"hoverlabel\":{\"align\":\"left\"},\"paper_bgcolor\":\"white\",\"plot_bgcolor\":\"#E5ECF6\",\"polar\":{\"bgcolor\":\"#E5ECF6\",\"angularaxis\":{\"gridcolor\":\"white\",\"linecolor\":\"white\",\"ticks\":\"\"},\"radialaxis\":{\"gridcolor\":\"white\",\"linecolor\":\"white\",\"ticks\":\"\"}},\"ternary\":{\"bgcolor\":\"#E5ECF6\",\"aaxis\":{\"gridcolor\":\"white\",\"linecolor\":\"white\",\"ticks\":\"\"},\"baxis\":{\"gridcolor\":\"white\",\"linecolor\":\"white\",\"ticks\":\"\"},\"caxis\":{\"gridcolor\":\"white\",\"linecolor\":\"white\",\"ticks\":\"\"}},\"coloraxis\":{\"colorbar\":{\"outlinewidth\":0,\"ticks\":\"\"}},\"colorscale\":{\"sequential\":[[0.0,\"#0d0887\"],[0.1111111111111111,\"#46039f\"],[0.2222222222222222,\"#7201a8\"],[0.3333333333333333,\"#9c179e\"],[0.4444444444444444,\"#bd3786\"],[0.5555555555555556,\"#d8576b\"],[0.6666666666666666,\"#ed7953\"],[0.7777777777777778,\"#fb9f3a\"],[0.8888888888888888,\"#fdca26\"],[1.0,\"#f0f921\"]],\"sequentialminus\":[[0.0,\"#0d0887\"],[0.1111111111111111,\"#46039f\"],[0.2222222222222222,\"#7201a8\"],[0.3333333333333333,\"#9c179e\"],[0.4444444444444444,\"#bd3786\"],[0.5555555555555556,\"#d8576b\"],[0.6666666666666666,\"#ed7953\"],[0.7777777777777778,\"#fb9f3a\"],[0.8888888888888888,\"#fdca26\"],[1.0,\"#f0f921\"]],\"diverging\":[[0,\"#8e0152\"],[0.1,\"#c51b7d\"],[0.2,\"#de77ae\"],[0.3,\"#f1b6da\"],[0.4,\"#fde0ef\"],[0.5,\"#f7f7f7\"],[0.6,\"#e6f5d0\"],[0.7,\"#b8e186\"],[0.8,\"#7fbc41\"],[0.9,\"#4d9221\"],[1,\"#276419\"]]},\"xaxis\":{\"gridcolor\":\"white\",\"linecolor\":\"white\",\"ticks\":\"\",\"title\":{\"standoff\":15},\"zerolinecolor\":\"white\",\"automargin\":true,\"zerolinewidth\":2},\"yaxis\":{\"gridcolor\":\"white\",\"linecolor\":\"white\",\"ticks\":\"\",\"title\":{\"standoff\":15},\"zerolinecolor\":\"white\",\"automargin\":true,\"zerolinewidth\":2},\"scene\":{\"xaxis\":{\"backgroundcolor\":\"#E5ECF6\",\"gridcolor\":\"white\",\"linecolor\":\"white\",\"showbackground\":true,\"ticks\":\"\",\"zerolinecolor\":\"white\",\"gridwidth\":2},\"yaxis\":{\"backgroundcolor\":\"#E5ECF6\",\"gridcolor\":\"white\",\"linecolor\":\"white\",\"showbackground\":true,\"ticks\":\"\",\"zerolinecolor\":\"white\",\"gridwidth\":2},\"zaxis\":{\"backgroundcolor\":\"#E5ECF6\",\"gridcolor\":\"white\",\"linecolor\":\"white\",\"showbackground\":true,\"ticks\":\"\",\"zerolinecolor\":\"white\",\"gridwidth\":2}},\"shapedefaults\":{\"line\":{\"color\":\"#2a3f5f\"}},\"annotationdefaults\":{\"arrowcolor\":\"#2a3f5f\",\"arrowhead\":0,\"arrowwidth\":1},\"geo\":{\"bgcolor\":\"white\",\"landcolor\":\"#E5ECF6\",\"subunitcolor\":\"white\",\"showland\":true,\"showlakes\":true,\"lakecolor\":\"white\"},\"title\":{\"x\":0.05},\"mapbox\":{\"style\":\"light\"}}},\"polar\":{\"radialaxis\":{\"visible\":true,\"range\":[1,7]}},\"width\":1000,\"height\":800,\"showlegend\":true},                        {\"responsive\": true}                    ).then(function(){\n",
       "                            \n",
       "var gd = document.getElementById('ff441e1a-1f38-4f01-9ebc-29511b4ebdec');\n",
       "var x = new MutationObserver(function (mutations, observer) {{\n",
       "        var display = window.getComputedStyle(gd).display;\n",
       "        if (!display || display === 'none') {{\n",
       "            console.log([gd, 'removed!']);\n",
       "            Plotly.purge(gd);\n",
       "            observer.disconnect();\n",
       "        }}\n",
       "}});\n",
       "\n",
       "// Listen for the removal of the full notebook cells\n",
       "var notebookContainer = gd.closest('#notebook-container');\n",
       "if (notebookContainer) {{\n",
       "    x.observe(notebookContainer, {childList: true});\n",
       "}}\n",
       "\n",
       "// Listen for the clearing of the current output cell\n",
       "var outputEl = gd.closest('.output');\n",
       "if (outputEl) {{\n",
       "    x.observe(outputEl, {childList: true});\n",
       "}}\n",
       "\n",
       "                        })                };                });            </script>        </div>"
      ]
     },
     "metadata": {},
     "output_type": "display_data"
    }
   ],
   "source": [
    "model_scores = df[df[\"Predicted_Score\"] > 0].groupby(\"Dimension\")[\"Predicted_Score\"].mean()\n",
    "print(model_scores)\n",
    "import plotly.graph_objects as go\n",
    "\n",
    "categories = model_scores.keys()\n",
    "\n",
    "fig = go.Figure()\n",
    "\n",
    "fig.add_trace(go.Scatterpolar(\n",
    "    r=model_scores.values,\n",
    "    theta=categories,\n",
    "    fill='toself',\n",
    "    name='DeepSeek Scores'\n",
    "))\n",
    "fig.add_trace(go.Scatterpolar(\n",
    "    r=nl_results[\"p_score\"],\n",
    "    theta=categories,\n",
    "    fill='toself',\n",
    "    name='NL Practice'\n",
    "))\n",
    "fig.add_trace(go.Scatterpolar(\n",
    "    r=nl_results[\"v_score\"],\n",
    "    theta=categories,\n",
    "    fill='toself',\n",
    "    name='NL Values'\n",
    "))\n",
    "fig.add_trace(go.Scatterpolar(\n",
    "    r=(nl_results[\"v_score\"] + nl_results[\"p_score\"]) / 2,\n",
    "    theta=categories,\n",
    "    fill='toself',\n",
    "    name='NL Avg values'\n",
    "))\n",
    "\n",
    "fig.update_layout(\n",
    "    width=1000,\n",
    "    height=800,\n",
    "    polar=dict(\n",
    "        radialaxis=dict(\n",
    "            visible=True,\n",
    "            range=[1, 7]\n",
    "        )\n",
    "    ),\n",
    "    showlegend=True\n",
    ")\n",
    "\n",
    "fig.show()"
   ]
  },
  {
   "cell_type": "code",
   "execution_count": null,
   "id": "3eb6ac82-7e70-4934-9ce0-1cbdd1e256b2",
   "metadata": {},
   "outputs": [],
   "source": []
  }
 ],
 "metadata": {
  "kernelspec": {
   "display_name": "Python 3 (ipykernel)",
   "language": "python",
   "name": "python3"
  },
  "language_info": {
   "codemirror_mode": {
    "name": "ipython",
    "version": 3
   },
   "file_extension": ".py",
   "mimetype": "text/x-python",
   "name": "python",
   "nbconvert_exporter": "python",
   "pygments_lexer": "ipython3",
   "version": "3.11.8"
  }
 },
 "nbformat": 4,
 "nbformat_minor": 5
}
